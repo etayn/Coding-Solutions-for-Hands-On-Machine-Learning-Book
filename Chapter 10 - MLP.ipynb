{
 "cells": [
  {
   "cell_type": "markdown",
   "id": "762eaecd",
   "metadata": {},
   "source": [
    "## Chapter 10 - Implementing MLP"
   ]
  },
  {
   "cell_type": "markdown",
   "id": "d62a6eaa",
   "metadata": {},
   "source": [
    "### Question 10 - fitting MLP on Mnist dataset"
   ]
  },
  {
   "cell_type": "markdown",
   "id": "96017539",
   "metadata": {},
   "source": [
    "this exercise was to train MLP on the Mnist dataset and try to achieve 98% accuracy on the test set. \n",
    "the main point here is to find the best learning rate - by starting with a very small learning rate and growing it larger\n",
    "by some factor each iteration on batch."
   ]
  },
  {
   "cell_type": "code",
   "execution_count": 1,
   "id": "67ce4b4b",
   "metadata": {},
   "outputs": [],
   "source": [
    "import os\n",
    "import numpy as np\n",
    "import pandas as pd\n",
    "import matplotlib.pyplot as plt\n",
    "from tensorflow import keras"
   ]
  },
  {
   "cell_type": "markdown",
   "id": "9df17dd6",
   "metadata": {},
   "source": [
    "making log dirs to use later in tensorboard"
   ]
  },
  {
   "cell_type": "code",
   "execution_count": 2,
   "id": "e5d04953",
   "metadata": {},
   "outputs": [],
   "source": [
    "git_logdir = os.path.join(os.getcwd() , \"my_logs\")\n",
    "\n",
    "def create_run_log():\n",
    "    import time\n",
    "    run_id = time.strftime(\"run_%Y_%m_%d-%H_%M_%S\")\n",
    "    return os.path.join(git_logdir , run_id)"
   ]
  },
  {
   "cell_type": "markdown",
   "id": "8d91ae73",
   "metadata": {},
   "source": [
    "loading the data, splitting the training set into training and validation, and scaling the inputs into 0-1"
   ]
  },
  {
   "cell_type": "code",
   "execution_count": 3,
   "id": "0a3caf54",
   "metadata": {},
   "outputs": [],
   "source": [
    "(X_train,y_train) , (X_test , y_test) = keras.datasets.mnist.load_data()"
   ]
  },
  {
   "cell_type": "code",
   "execution_count": 4,
   "id": "2635a72d",
   "metadata": {},
   "outputs": [
    {
     "name": "stdout",
     "output_type": "stream",
     "text": [
      "(60000, 28, 28) (10000, 28, 28)\n"
     ]
    }
   ],
   "source": [
    "print(X_train.shape , X_test.shape)"
   ]
  },
  {
   "cell_type": "code",
   "execution_count": 5,
   "id": "dc06c018",
   "metadata": {},
   "outputs": [],
   "source": [
    "X_train , X_test = X_train/255.0 , X_test/255.0\n",
    "\n",
    "from sklearn.model_selection import train_test_split\n",
    "\n",
    "X_train , X_val , y_train , y_val = train_test_split(X_train , y_train , train_size=50000 , random_state=42)"
   ]
  },
  {
   "cell_type": "markdown",
   "id": "a28aca70",
   "metadata": {},
   "source": [
    "building a learning rate/callbacks class which each iteraion on batch end setting the new learning rate by multiplying \n",
    "the last one by some factor."
   ]
  },
  {
   "cell_type": "code",
   "execution_count": 6,
   "id": "cfe34a43",
   "metadata": {},
   "outputs": [],
   "source": [
    "class my_lr(keras.callbacks.Callback):\n",
    "    def __init__(self,factor):\n",
    "        self.factor = factor\n",
    "        self.loss = []\n",
    "        self.lr = []\n",
    "    def on_batch_end(self , batch , logs):\n",
    "        self.lr.append(keras.backend.get_value(self.model.optimizer.learning_rate))\n",
    "        self.loss.append(logs[\"loss\"])\n",
    "        keras.backend.set_value(self.model.optimizer.learning_rate , self.model.optimizer.learning_rate * self.factor)"
   ]
  },
  {
   "cell_type": "markdown",
   "id": "a81ca68b",
   "metadata": {},
   "source": [
    "building the models. we have a flattening layer, and 3 dense layer which the last one is the output layer.\n",
    "here we chose this factor in out learning rate class in order to start with 10^-5 learning rate and finishing with 10 leaning rate after 500 iterations(this is the reason i chose batch_size = 100).\n",
    "we then compile the model and fitting it on the training set using 1 ecpoh."
   ]
  },
  {
   "cell_type": "code",
   "execution_count": 7,
   "id": "482deb3f",
   "metadata": {},
   "outputs": [
    {
     "name": "stdout",
     "output_type": "stream",
     "text": [
      "500/500 [==============================] - 1s 2ms/step - loss: 547425144785840426188800.0000 - accuracy: 0.2974 - val_loss: 30.9075 - val_accuracy: 0.1010\n"
     ]
    }
   ],
   "source": [
    "model = keras.models.Sequential([\n",
    "    keras.layers.Flatten(input_shape = [28,28]),\n",
    "    keras.layers.Dense(300, activation = \"relu\"),\n",
    "    keras.layers.Dense(100 , activation = \"relu\"),\n",
    "    keras.layers.Dense(10 , activation = \"softmax\")\n",
    "])\n",
    "\n",
    "expo_lr = my_lr(np.exp(np.log(10**6)/500))\n",
    "run_log = create_run_log()\n",
    "model.compile(loss = \"sparse_categorical_crossentropy\" , optimizer = keras.optimizers.SGD(10e-5) ,\n",
    "             metrics=[\"accuracy\"])\n",
    "\n",
    "history = model.fit(X_train , y_train , batch_size=100 , epochs=1 , validation_data=(X_val , y_val),\n",
    "                   callbacks=[expo_lr])"
   ]
  },
  {
   "cell_type": "markdown",
   "id": "f2fd61fb",
   "metadata": {},
   "source": [
    "plotting the loss vs learning rate"
   ]
  },
  {
   "cell_type": "code",
   "execution_count": 8,
   "id": "391ce71e",
   "metadata": {
    "scrolled": false
   },
   "outputs": [
    {
     "data": {
      "text/plain": [
       "Text(0, 0.5, 'Loss')"
      ]
     },
     "execution_count": 8,
     "metadata": {},
     "output_type": "execute_result"
    },
    {
     "data": {
      "image/png": "[encoded data removed]",
      "text/plain": [
       "<Figure size 432x288 with 1 Axes>"
      ]
     },
     "metadata": {
      "needs_background": "light"
     },
     "output_type": "display_data"
    }
   ],
   "source": [
    "plt.plot(expo_lr.lr , expo_lr.loss)\n",
    "plt.gca().set_xscale('log')\n",
    "plt.hlines(min(expo_lr.loss), min(expo_lr.lr), max(expo_lr.lr))\n",
    "plt.axis([min(expo_lr.lr), max(expo_lr.lr), 0, expo_lr.loss[0]])\n",
    "plt.grid()\n",
    "plt.xlabel(\"Learning rate\")\n",
    "plt.ylabel(\"Loss\")\n"
   ]
  },
  {
   "cell_type": "markdown",
   "id": "1aa5bd25",
   "metadata": {},
   "source": [
    "finding the best learning rate. here i divided the learning rate by 3 because it was close to 1."
   ]
  },
  {
   "cell_type": "code",
   "execution_count": 9,
   "id": "35643123",
   "metadata": {},
   "outputs": [
    {
     "data": {
      "text/plain": [
       "0.3588254451751709"
      ]
     },
     "execution_count": 9,
     "metadata": {},
     "output_type": "execute_result"
    }
   ],
   "source": [
    "min_loss_for_lr = expo_lr.lr[np.argmin(expo_lr.loss)]/3\n",
    "min_loss_for_lr"
   ]
  },
  {
   "cell_type": "markdown",
   "id": "08215857",
   "metadata": {},
   "source": [
    "refitting the model with the new learning rate, and adding early stopping callback with patience = 5."
   ]
  },
  {
   "cell_type": "code",
   "execution_count": 10,
   "id": "573308b1",
   "metadata": {},
   "outputs": [
    {
     "name": "stdout",
     "output_type": "stream",
     "text": [
      "Epoch 1/100\n",
      "   1/1563 [..............................] - ETA: 0s - loss: 2.3378 - accuracy: 0.1562WARNING:tensorflow:From C:\\Users\\itay\\anaconda3\\lib\\site-packages\\tensorflow\\python\\ops\\summary_ops_v2.py:1277: stop (from tensorflow.python.eager.profiler) is deprecated and will be removed after 2020-07-01.\n",
      "Instructions for updating:\n",
      "use `tf.profiler.experimental.stop` instead.\n",
      "WARNING:tensorflow:Callbacks method `on_train_batch_end` is slow compared to the batch time (batch time: 0.0010s vs `on_train_batch_end` time: 0.0174s). Check your callbacks.\n",
      "1563/1563 [==============================] - 1s 798us/step - loss: 0.2423 - accuracy: 0.9232 - val_loss: 0.1319 - val_accuracy: 0.9604\n",
      "Epoch 2/100\n",
      "1563/1563 [==============================] - 1s 699us/step - loss: 0.0977 - accuracy: 0.9694 - val_loss: 0.0953 - val_accuracy: 0.9717\n",
      "Epoch 3/100\n",
      "1563/1563 [==============================] - 1s 669us/step - loss: 0.0679 - accuracy: 0.9780 - val_loss: 0.1606 - val_accuracy: 0.9554\n",
      "Epoch 4/100\n",
      "1563/1563 [==============================] - 1s 671us/step - loss: 0.0536 - accuracy: 0.9829 - val_loss: 0.0852 - val_accuracy: 0.9747\n",
      "Epoch 5/100\n",
      "1563/1563 [==============================] - 1s 692us/step - loss: 0.0407 - accuracy: 0.9868 - val_loss: 0.0880 - val_accuracy: 0.9765\n",
      "Epoch 6/100\n",
      "1563/1563 [==============================] - 1s 671us/step - loss: 0.0348 - accuracy: 0.9885 - val_loss: 0.0897 - val_accuracy: 0.9764\n",
      "Epoch 7/100\n",
      "1563/1563 [==============================] - 1s 692us/step - loss: 0.0268 - accuracy: 0.9912 - val_loss: 0.0802 - val_accuracy: 0.9801\n",
      "Epoch 8/100\n",
      "1563/1563 [==============================] - 1s 673us/step - loss: 0.0181 - accuracy: 0.9937 - val_loss: 0.0860 - val_accuracy: 0.9801\n",
      "Epoch 9/100\n",
      "1563/1563 [==============================] - 1s 710us/step - loss: 0.0203 - accuracy: 0.9934 - val_loss: 0.0914 - val_accuracy: 0.9794\n",
      "Epoch 10/100\n",
      "1563/1563 [==============================] - 1s 687us/step - loss: 0.0176 - accuracy: 0.9942 - val_loss: 0.0920 - val_accuracy: 0.9785\n",
      "Epoch 11/100\n",
      "1563/1563 [==============================] - 1s 675us/step - loss: 0.0157 - accuracy: 0.9950 - val_loss: 0.1076 - val_accuracy: 0.9787\n",
      "Epoch 12/100\n",
      "1563/1563 [==============================] - 1s 708us/step - loss: 0.0099 - accuracy: 0.9969 - val_loss: 0.0883 - val_accuracy: 0.9817\n"
     ]
    }
   ],
   "source": [
    "model = keras.models.Sequential([\n",
    "    keras.layers.Flatten(input_shape = [28,28]),\n",
    "    keras.layers.Dense(300, activation = \"relu\"),\n",
    "    keras.layers.Dense(100 , activation = \"relu\"),\n",
    "    keras.layers.Dense(10 , activation = \"softmax\")\n",
    "])\n",
    "\n",
    "\n",
    "run_log = create_run_log()\n",
    "model.compile(loss = \"sparse_categorical_crossentropy\" , optimizer = keras.optimizers.SGD(min_loss_for_lr) ,\n",
    "             metrics=[\"accuracy\"])\n",
    "cb_tensorboard = keras.callbacks.TensorBoard(run_log)\n",
    "cb_early_stopping = keras.callbacks.EarlyStopping(patience=5)\n",
    "\n",
    "history = model.fit(X_train , y_train  , epochs=100 , validation_data=(X_val , y_val),\n",
    "                   callbacks=[cb_early_stopping , cb_tensorboard])"
   ]
  },
  {
   "cell_type": "markdown",
   "id": "7ef107a3",
   "metadata": {},
   "source": [
    "and this is it, we build a model that achieved 97.7% accuracy on the test set, using very basic model and just searching \n",
    "for the best learning rate."
   ]
  },
  {
   "cell_type": "code",
   "execution_count": 11,
   "id": "5d183bd8",
   "metadata": {},
   "outputs": [
    {
     "name": "stdout",
     "output_type": "stream",
     "text": [
      "313/313 [==============================] - 0s 424us/step - loss: 0.0953 - accuracy: 0.9778\n"
     ]
    },
    {
     "data": {
      "text/plain": [
       "[0.0952892005443573, 0.9778000116348267]"
      ]
     },
     "execution_count": 11,
     "metadata": {},
     "output_type": "execute_result"
    }
   ],
   "source": [
    "model.evaluate(X_test,y_test)"
   ]
  }
 ],
 "metadata": {
  "kernelspec": {
   "display_name": "Python 3",
   "language": "python",
   "name": "python3"
  },
  "language_info": {
   "codemirror_mode": {
    "name": "ipython",
    "version": 3
   },
   "file_extension": ".py",
   "mimetype": "text/x-python",
   "name": "python",
   "nbconvert_exporter": "python",
   "pygments_lexer": "ipython3",
   "version": "3.8.8"
  }
 },
 "nbformat": 4,
 "nbformat_minor": 5
}
