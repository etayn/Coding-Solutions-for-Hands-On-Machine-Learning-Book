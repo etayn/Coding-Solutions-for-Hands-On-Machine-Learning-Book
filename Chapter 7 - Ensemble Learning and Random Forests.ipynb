{
 "cells": [
  {
   "cell_type": "markdown",
   "id": "882f631c",
   "metadata": {},
   "source": [
    "## Chapter 7 - Ensemble Learning and Random Forests"
   ]
  },
  {
   "cell_type": "markdown",
   "id": "2717ebe6",
   "metadata": {},
   "source": [
    "### Question 8 - ensemble of different classifiers"
   ]
  },
  {
   "cell_type": "markdown",
   "id": "645260d2",
   "metadata": {},
   "source": [
    "loading mnist data"
   ]
  },
  {
   "cell_type": "code",
   "execution_count": 1,
   "id": "4213b537",
   "metadata": {},
   "outputs": [],
   "source": [
    "import numpy as np\n",
    "import pandas as pd\n",
    "import matplotlib.pyplot as plt"
   ]
  },
  {
   "cell_type": "code",
   "execution_count": 2,
   "id": "9f7919e1",
   "metadata": {},
   "outputs": [],
   "source": [
    "from sklearn.datasets import fetch_openml\n",
    "mnist = fetch_openml('mnist_784' , version=1)\n",
    "X , y = mnist[\"data\"] , mnist[\"target\"]"
   ]
  },
  {
   "cell_type": "markdown",
   "id": "675a49c7",
   "metadata": {},
   "source": [
    "splitting the data to train,validation,test"
   ]
  },
  {
   "cell_type": "code",
   "execution_count": 3,
   "id": "0f852902",
   "metadata": {},
   "outputs": [],
   "source": [
    "from sklearn.model_selection import train_test_split\n",
    "\n",
    "X_train , X_test , y_train , y_test = train_test_split(X , y , train_size=60000 , random_state=42)\n",
    "\n",
    "X_train , X_val , y_train , y_val = train_test_split(X_train , y_train , train_size=50000 , random_state=42)"
   ]
  },
  {
   "cell_type": "markdown",
   "id": "7797c308",
   "metadata": {},
   "source": [
    "training classifiers"
   ]
  },
  {
   "cell_type": "code",
   "execution_count": 4,
   "id": "d3e8172c",
   "metadata": {},
   "outputs": [],
   "source": [
    "from sklearn.ensemble import RandomForestClassifier , ExtraTreesClassifier\n",
    "from sklearn.svm import SVC\n",
    "from sklearn.linear_model import LogisticRegression"
   ]
  },
  {
   "cell_type": "code",
   "execution_count": 5,
   "id": "eb55b15b",
   "metadata": {},
   "outputs": [],
   "source": [
    "rand_clf = RandomForestClassifier(random_state=42)\n",
    "extra_clf = ExtraTreesClassifier(random_state=42)\n",
    "svm_clf = SVC(random_state=42)"
   ]
  },
  {
   "cell_type": "code",
   "execution_count": 6,
   "id": "57a9b30a",
   "metadata": {},
   "outputs": [
    {
     "data": {
      "text/plain": [
       "SVC(random_state=42)"
      ]
     },
     "execution_count": 6,
     "metadata": {},
     "output_type": "execute_result"
    }
   ],
   "source": [
    "rand_clf.fit(X_train , y_train)\n",
    "extra_clf.fit(X_train , y_train)\n",
    "svm_clf.fit(X_train , y_train)"
   ]
  },
  {
   "cell_type": "code",
   "execution_count": 7,
   "id": "16a80880",
   "metadata": {},
   "outputs": [],
   "source": [
    "y_rand_pred = rand_clf.predict(X_val)\n",
    "y_extra_pred = extra_clf.predict(X_val)\n",
    "y_svm_pred = svm_clf.predict(X_val)"
   ]
  },
  {
   "cell_type": "code",
   "execution_count": 8,
   "id": "13a854d6",
   "metadata": {},
   "outputs": [
    {
     "name": "stdout",
     "output_type": "stream",
     "text": [
      "RandomForestClassifier(random_state=42) 0.9692\n",
      "ExtraTreesClassifier(random_state=42) 0.9715\n",
      "SVC(random_state=42) 0.9788\n"
     ]
    }
   ],
   "source": [
    "from sklearn.metrics import accuracy_score\n",
    "\n",
    "print(rand_clf ,accuracy_score(y_rand_pred , y_val))\n",
    "print(extra_clf , accuracy_score(y_extra_pred, y_val))\n",
    "print(svm_clf , accuracy_score(y_svm_pred , y_val))"
   ]
  },
  {
   "cell_type": "markdown",
   "id": "6b2d7859",
   "metadata": {},
   "source": [
    "building ensemble voting classifier"
   ]
  },
  {
   "cell_type": "code",
   "execution_count": 9,
   "id": "fb03f230",
   "metadata": {},
   "outputs": [
    {
     "name": "stdout",
     "output_type": "stream",
     "text": [
      "VotingClassifier(estimators=[('rf', RandomForestClassifier(random_state=42)),\n",
      "                             ('ex', ExtraTreesClassifier(random_state=42)),\n",
      "                             ('svm', SVC(random_state=42))]) 0.9744\n"
     ]
    }
   ],
   "source": [
    "from sklearn.ensemble import VotingClassifier\n",
    "\n",
    "voting_clf = VotingClassifier(estimators= [('rf' , rand_clf) , ('ex' , extra_clf) , ('svm' , svm_clf)] ,\n",
    "                             voting= 'hard')\n",
    "\n",
    "voting_clf.fit(X_train , y_train)\n",
    "y_voting_pred = voting_clf.predict(X_val)\n",
    "\n",
    "print(voting_clf , accuracy_score(y_voting_pred , y_val))"
   ]
  },
  {
   "cell_type": "code",
   "execution_count": 10,
   "id": "a2da57d0",
   "metadata": {},
   "outputs": [],
   "source": [
    "y_rand_pred_test = rand_clf.predict(X_test)\n",
    "y_extra_pred_test = extra_clf.predict(X_test)\n",
    "y_svm_pred_test = svm_clf.predict(X_test)\n",
    "y_voting_pred_test = voting_clf.predict(X_test)"
   ]
  },
  {
   "cell_type": "markdown",
   "id": "46157ef4",
   "metadata": {},
   "source": [
    "evaluating the classifiers - svm with the best accuracy, the voting classifier at second"
   ]
  },
  {
   "cell_type": "code",
   "execution_count": 11,
   "id": "54ce4fd7",
   "metadata": {},
   "outputs": [
    {
     "name": "stdout",
     "output_type": "stream",
     "text": [
      "RandomForestClassifier(random_state=42) 0.9645\n",
      "ExtraTreesClassifier(random_state=42) 0.9691\n",
      "SVC(random_state=42) 0.976\n",
      "VotingClassifier(estimators=[('rf', RandomForestClassifier(random_state=42)),\n",
      "                             ('ex', ExtraTreesClassifier(random_state=42)),\n",
      "                             ('svm', SVC(random_state=42))]) 0.9713\n"
     ]
    }
   ],
   "source": [
    "print(rand_clf ,accuracy_score(y_rand_pred_test , y_test))\n",
    "print(extra_clf , accuracy_score(y_extra_pred_test, y_test))\n",
    "print(svm_clf , accuracy_score(y_svm_pred_test , y_test))\n",
    "print(voting_clf , accuracy_score(y_voting_pred_test , y_test))"
   ]
  },
  {
   "cell_type": "markdown",
   "id": "1d731552",
   "metadata": {},
   "source": [
    "### Question 9 - building a blender"
   ]
  },
  {
   "cell_type": "markdown",
   "id": "61f41ddc",
   "metadata": {},
   "source": [
    "creating new training set using the predictions from the classifiers on the validation set in the last question as instances"
   ]
  },
  {
   "cell_type": "code",
   "execution_count": 12,
   "id": "22acbec6",
   "metadata": {},
   "outputs": [],
   "source": [
    "new_training_set = np.array([y_rand_pred , y_extra_pred , y_svm_pred]).transpose()"
   ]
  },
  {
   "cell_type": "markdown",
   "id": "67325880",
   "metadata": {},
   "source": [
    "fitting a classifier on the new training set"
   ]
  },
  {
   "cell_type": "code",
   "execution_count": 13,
   "id": "5f8c5d35",
   "metadata": {},
   "outputs": [
    {
     "data": {
      "text/plain": [
       "RandomForestClassifier(random_state=42)"
      ]
     },
     "execution_count": 13,
     "metadata": {},
     "output_type": "execute_result"
    }
   ],
   "source": [
    "rand_blender_clf = RandomForestClassifier(random_state=42)\n",
    "rand_blender_clf.fit(new_training_set , y_val)"
   ]
  },
  {
   "cell_type": "markdown",
   "id": "fb524013",
   "metadata": {},
   "source": [
    "evaluating on the test set - svm first with the best accuracy, the blender third"
   ]
  },
  {
   "cell_type": "code",
   "execution_count": 14,
   "id": "aacc7d1a",
   "metadata": {},
   "outputs": [],
   "source": [
    "new_test_set = np.array([y_rand_pred_test , y_extra_pred_test , y_svm_pred_test]).transpose()\n",
    "y_blender_pred = rand_blender_clf.predict(new_test_set)"
   ]
  },
  {
   "cell_type": "code",
   "execution_count": 15,
   "id": "45fbf47c",
   "metadata": {},
   "outputs": [
    {
     "name": "stdout",
     "output_type": "stream",
     "text": [
      "RandomForestClassifier(random_state=42) 0.9645\n",
      "ExtraTreesClassifier(random_state=42) 0.9691\n",
      "SVC(random_state=42) 0.976\n",
      "VotingClassifier(estimators=[('rf', RandomForestClassifier(random_state=42)),\n",
      "                             ('ex', ExtraTreesClassifier(random_state=42)),\n",
      "                             ('svm', SVC(random_state=42))]) 0.9713\n",
      "RandomForestClassifier(random_state=42) 0.9706\n"
     ]
    }
   ],
   "source": [
    "print(rand_clf ,accuracy_score(y_rand_pred_test , y_test))\n",
    "print(extra_clf , accuracy_score(y_extra_pred_test, y_test))\n",
    "print(svm_clf , accuracy_score(y_svm_pred_test , y_test))\n",
    "print(voting_clf , accuracy_score(y_voting_pred_test , y_test))\n",
    "print(rand_blender_clf , accuracy_score(y_blender_pred , y_test))"
   ]
  }
 ],
 "metadata": {
  "kernelspec": {
   "display_name": "Python 3",
   "language": "python",
   "name": "python3"
  },
  "language_info": {
   "codemirror_mode": {
    "name": "ipython",
    "version": 3
   },
   "file_extension": ".py",
   "mimetype": "text/x-python",
   "name": "python",
   "nbconvert_exporter": "python",
   "pygments_lexer": "ipython3",
   "version": "3.8.8"
  }
 },
 "nbformat": 4,
 "nbformat_minor": 5
}
