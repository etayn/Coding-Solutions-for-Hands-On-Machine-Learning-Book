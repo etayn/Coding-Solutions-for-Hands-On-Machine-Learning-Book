{
 "cells": [
  {
   "cell_type": "markdown",
   "id": "9eeae6e4",
   "metadata": {},
   "source": [
    "## Chapter 6 - Decision Tree"
   ]
  },
  {
   "cell_type": "markdown",
   "id": "d4e4ac44",
   "metadata": {},
   "source": [
    "### Question 7 - training and fine-tuning decision tree on the moons dataset"
   ]
  },
  {
   "cell_type": "markdown",
   "id": "fe34165a",
   "metadata": {},
   "source": [
    "a - using make_moon the make the dataset"
   ]
  },
  {
   "cell_type": "code",
   "execution_count": 1,
   "id": "91665f4a",
   "metadata": {},
   "outputs": [],
   "source": [
    "import numpy as np\n",
    "import pandas as pd"
   ]
  },
  {
   "cell_type": "code",
   "execution_count": 2,
   "id": "b20f8ef9",
   "metadata": {},
   "outputs": [],
   "source": [
    "from sklearn.datasets import make_moons"
   ]
  },
  {
   "cell_type": "code",
   "execution_count": 9,
   "id": "53c9fc7c",
   "metadata": {},
   "outputs": [],
   "source": [
    "X , y = make_moons(n_samples=10000 , noise=0.4 , random_state=42)"
   ]
  },
  {
   "cell_type": "markdown",
   "id": "8a5a25bc",
   "metadata": {},
   "source": [
    "b - using train_test_split to split the dataset into training set and test set"
   ]
  },
  {
   "cell_type": "code",
   "execution_count": 10,
   "id": "c7461924",
   "metadata": {},
   "outputs": [],
   "source": [
    "from sklearn.model_selection import train_test_split\n",
    "X_train , X_test , y_train , y_test = train_test_split(X ,y , test_size= 0.2 , random_state=42)"
   ]
  },
  {
   "cell_type": "markdown",
   "id": "f3363bb0",
   "metadata": {},
   "source": [
    "c - using grid search with cross-validation to find best hyperparameter values for decision tree classifier"
   ]
  },
  {
   "cell_type": "code",
   "execution_count": 11,
   "id": "709dc857",
   "metadata": {},
   "outputs": [],
   "source": [
    "from sklearn.model_selection import GridSearchCV\n",
    "from sklearn.tree import DecisionTreeClassifier\n",
    "\n",
    "param_grid = [{\n",
    "    'max_depth' : [5,10,15,20] , 'max_leaf_nodes' : [10,20,30,40] \n",
    "}]\n",
    "\n",
    "tree_clf = DecisionTreeClassifier()"
   ]
  },
  {
   "cell_type": "code",
   "execution_count": 12,
   "id": "e2f065b9",
   "metadata": {},
   "outputs": [
    {
     "data": {
      "text/plain": [
       "GridSearchCV(cv=5, estimator=DecisionTreeClassifier(),\n",
       "             param_grid=[{'max_depth': [5, 10, 15, 20],\n",
       "                          'max_leaf_nodes': [10, 20, 30, 40]}],\n",
       "             return_train_score=True, scoring='accuracy')"
      ]
     },
     "execution_count": 12,
     "metadata": {},
     "output_type": "execute_result"
    }
   ],
   "source": [
    "grid_search = GridSearchCV(tree_clf , param_grid , cv = 5 , scoring='accuracy' , return_train_score=True)\n",
    "\n",
    "grid_search.fit(X_train , y_train)"
   ]
  },
  {
   "cell_type": "code",
   "execution_count": 13,
   "id": "f1f13050",
   "metadata": {},
   "outputs": [
    {
     "name": "stdout",
     "output_type": "stream",
     "text": [
      "0.858625 {'max_depth': 10, 'max_leaf_nodes': 20}\n"
     ]
    }
   ],
   "source": [
    "print(grid_search.best_score_ , grid_search.best_params_)"
   ]
  },
  {
   "cell_type": "markdown",
   "id": "d32b3aea",
   "metadata": {},
   "source": [
    "d - training the best classifier on the full training set and measure the model performance on the test set"
   ]
  },
  {
   "cell_type": "code",
   "execution_count": 14,
   "id": "5f10b922",
   "metadata": {},
   "outputs": [
    {
     "data": {
      "text/plain": [
       "DecisionTreeClassifier(max_depth=10, max_leaf_nodes=20)"
      ]
     },
     "execution_count": 14,
     "metadata": {},
     "output_type": "execute_result"
    }
   ],
   "source": [
    "tree_clf_best = DecisionTreeClassifier(max_depth=10 , max_leaf_nodes= 20)\n",
    "\n",
    "tree_clf_best.fit(X_train , y_train)"
   ]
  },
  {
   "cell_type": "code",
   "execution_count": 15,
   "id": "e164fd00",
   "metadata": {},
   "outputs": [],
   "source": [
    "y_pred = tree_clf_best.predict(X_test)"
   ]
  },
  {
   "cell_type": "code",
   "execution_count": 17,
   "id": "61d20dc8",
   "metadata": {},
   "outputs": [
    {
     "name": "stdout",
     "output_type": "stream",
     "text": [
      "0.87\n"
     ]
    },
    {
     "data": {
      "text/plain": [
       "array([[896, 143],\n",
       "       [117, 844]], dtype=int64)"
      ]
     },
     "execution_count": 17,
     "metadata": {},
     "output_type": "execute_result"
    }
   ],
   "source": [
    "from sklearn.metrics import accuracy_score , confusion_matrix\n",
    "\n",
    "print(accuracy_score(y_pred, y_test))\n",
    "\n",
    "confusion_matrix(y_pred, y_test)"
   ]
  },
  {
   "cell_type": "markdown",
   "id": "ac1401cc",
   "metadata": {},
   "source": [
    "### Question 8 - growing a forest"
   ]
  },
  {
   "cell_type": "markdown",
   "id": "3d3078c9",
   "metadata": {},
   "source": [
    "a - making 1000 subsets of the training set, each contains 100 instances selected randomly"
   ]
  },
  {
   "cell_type": "code",
   "execution_count": 18,
   "id": "d997932d",
   "metadata": {},
   "outputs": [],
   "source": [
    "from sklearn.model_selection import ShuffleSplit\n",
    "\n",
    "rs = ShuffleSplit(n_splits=1000 , train_size=100 , random_state=42)\n",
    "\n",
    "multi_tree_dataset = []\n",
    "\n",
    "for trainid , testid in rs.split(X_train):\n",
    "    multi_tree_dataset.append((X_train[trainid] , y_train[trainid]))"
   ]
  },
  {
   "cell_type": "markdown",
   "id": "0ff059cf",
   "metadata": {},
   "source": [
    "b - training one decision tree on each subset using the best hyperparameter values from last question, and evaluating these    1000 trees on the test set"
   ]
  },
  {
   "cell_type": "code",
   "execution_count": 43,
   "id": "c564cfee",
   "metadata": {},
   "outputs": [
    {
     "data": {
      "text/plain": [
       "0.8234999999999998"
      ]
     },
     "execution_count": 43,
     "metadata": {},
     "output_type": "execute_result"
    }
   ],
   "source": [
    "accuracy_scores = []\n",
    "trees = []\n",
    "\n",
    "for (X_train_multi , y_train_multi) in multi_tree_dataset:\n",
    "    new_tree_clf_best = DecisionTreeClassifier(max_depth=10 , max_leaf_nodes=20)\n",
    "    new_tree_clf_best.fit(X_train_multi , y_train_multi)\n",
    "    trees.append(new_tree_clf_best)\n",
    "    y_pred_multi = tree_clf_best.predict(X_test)\n",
    "    accuracy_scores.append(accuracy_score(y_pred , y_test))\n",
    "    \n",
    "np.mean(accuracy_scores)"
   ]
  },
  {
   "cell_type": "markdown",
   "id": "b9dc459a",
   "metadata": {},
   "source": [
    "c - generating the predictions of each of the 1000 trees on the test set, and keeping the most frequent using mode()"
   ]
  },
  {
   "cell_type": "code",
   "execution_count": 44,
   "id": "4709cca0",
   "metadata": {},
   "outputs": [],
   "source": [
    "y_pred = []\n",
    "\n",
    "for tree in trees:\n",
    "    y_pred.append((tree.predict(X_test)))"
   ]
  },
  {
   "cell_type": "code",
   "execution_count": 45,
   "id": "a5b9dd39",
   "metadata": {},
   "outputs": [],
   "source": [
    "from scipy.stats import mode\n",
    "\n",
    "y_pred_final , votes = mode(y_pred , axis=0)"
   ]
  },
  {
   "cell_type": "markdown",
   "id": "b7848eaa",
   "metadata": {},
   "source": [
    "d - evaluating these prediction on the test set, we got an increase of 0.25% from the model in the last question"
   ]
  },
  {
   "cell_type": "code",
   "execution_count": 46,
   "id": "e8cfed76",
   "metadata": {},
   "outputs": [
    {
     "data": {
      "text/plain": [
       "0.8725"
      ]
     },
     "execution_count": 46,
     "metadata": {},
     "output_type": "execute_result"
    }
   ],
   "source": [
    "accuracy_score(y_pred_final.reshape(-1) , y_test)"
   ]
  }
 ],
 "metadata": {
  "kernelspec": {
   "display_name": "Python 3",
   "language": "python",
   "name": "python3"
  },
  "language_info": {
   "codemirror_mode": {
    "name": "ipython",
    "version": 3
   },
   "file_extension": ".py",
   "mimetype": "text/x-python",
   "name": "python",
   "nbconvert_exporter": "python",
   "pygments_lexer": "ipython3",
   "version": "3.8.8"
  }
 },
 "nbformat": 4,
 "nbformat_minor": 5
}
